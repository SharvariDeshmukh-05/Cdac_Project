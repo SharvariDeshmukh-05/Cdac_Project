{
 "cells": [
  {
   "cell_type": "code",
   "execution_count": 1,
   "id": "682a9607",
   "metadata": {},
   "outputs": [],
   "source": [
    "from confluent_kafka import Consumer, KafkaError\n",
    "import pandas as pd"
   ]
  },
  {
   "cell_type": "code",
   "execution_count": 2,
   "id": "a0006c62",
   "metadata": {},
   "outputs": [],
   "source": [
    "# Kafka bootstrap servers\n",
    "bootstrap_servers = 'localhost:9092'\n",
    "\n",
    "# Create Kafka consumer configuration\n",
    "conf = {'bootstrap.servers': bootstrap_servers, 'group.id': 'my_consumer_group', 'auto.offset.reset': 'earliest'}\n",
    "\n",
    "# Kafka topic to consume messages from\n",
    "topic = 'project'\n",
    "\n",
    "# Create Kafka consumer instance\n",
    "consumer = Consumer(conf)\n",
    "\n",
    "# Subscribe to the Kafka topic\n",
    "consumer.subscribe([topic])\n",
    "\n",
    "# List to store consumed messages\n",
    "tweets = []\n",
    "\n",
    "n1=100\n",
    "n=0"
   ]
  },
  {
   "cell_type": "code",
   "execution_count": 4,
   "id": "d0fba811",
   "metadata": {},
   "outputs": [
    {
     "ename": "KeyboardInterrupt",
     "evalue": "",
     "output_type": "error",
     "traceback": [
      "\u001b[1;31m---------------------------------------------------------------------------\u001b[0m",
      "\u001b[1;31mKeyboardInterrupt\u001b[0m                         Traceback (most recent call last)",
      "\u001b[1;32m~\\AppData\\Local\\Temp\\ipykernel_2564\\3362658160.py\u001b[0m in \u001b[0;36m<module>\u001b[1;34m\u001b[0m\n\u001b[0;32m      1\u001b[0m \u001b[1;31m# Consume messages\u001b[0m\u001b[1;33m\u001b[0m\u001b[1;33m\u001b[0m\u001b[0m\n\u001b[0;32m      2\u001b[0m \u001b[1;32mwhile\u001b[0m \u001b[0mn\u001b[0m\u001b[1;33m<\u001b[0m\u001b[0mn1\u001b[0m\u001b[1;33m:\u001b[0m\u001b[1;33m\u001b[0m\u001b[1;33m\u001b[0m\u001b[0m\n\u001b[1;32m----> 3\u001b[1;33m     \u001b[0mmsg\u001b[0m \u001b[1;33m=\u001b[0m \u001b[0mconsumer\u001b[0m\u001b[1;33m.\u001b[0m\u001b[0mpoll\u001b[0m\u001b[1;33m(\u001b[0m\u001b[1;36m1.0\u001b[0m\u001b[1;33m)\u001b[0m  \u001b[1;31m# 1-second timeout\u001b[0m\u001b[1;33m\u001b[0m\u001b[1;33m\u001b[0m\u001b[0m\n\u001b[0m\u001b[0;32m      4\u001b[0m     \u001b[1;32mif\u001b[0m \u001b[0mmsg\u001b[0m \u001b[1;32mis\u001b[0m \u001b[1;32mNone\u001b[0m\u001b[1;33m:\u001b[0m\u001b[1;33m\u001b[0m\u001b[1;33m\u001b[0m\u001b[0m\n\u001b[0;32m      5\u001b[0m         \u001b[1;32mcontinue\u001b[0m\u001b[1;33m\u001b[0m\u001b[1;33m\u001b[0m\u001b[0m\n",
      "\u001b[1;31mKeyboardInterrupt\u001b[0m: "
     ]
    }
   ],
   "source": [
    "\n",
    "# Consume messages\n",
    "while n<n1:\n",
    "    msg = consumer.poll(1.0)  # 1-second timeout\n",
    "    if msg is None:\n",
    "        continue\n",
    "    if msg.error():\n",
    "        if msg.error().code() == KafkaError._PARTITION_EOF:\n",
    "            # End of partition event\n",
    "            continue\n",
    "        else:\n",
    "            print(f\"Error: {msg.error()}\")\n",
    "            break\n",
    "\n",
    "    # Process the received message\n",
    "    tweets.append(msg.value().decode('utf-8'))\n",
    "\n",
    "    # Break after receiving one message\n",
    "    n+=1\n",
    "\n",
    "# Close the Kafka consumer\n",
    "consumer.close()\n",
    "\n"
   ]
  },
  {
   "cell_type": "code",
   "execution_count": null,
   "id": "cfe2071d",
   "metadata": {},
   "outputs": [],
   "source": [
    "# Convert messages list to DataFrame\n",
    "df = pd.DataFrame(tweets, columns=['Tweets'])\n",
    "\n",
    "# Display the DataFrame\n",
    "print(df)"
   ]
  }
 ],
 "metadata": {
  "kernelspec": {
   "display_name": "Python 3 (ipykernel)",
   "language": "python",
   "name": "python3"
  },
  "language_info": {
   "codemirror_mode": {
    "name": "ipython",
    "version": 3
   },
   "file_extension": ".py",
   "mimetype": "text/x-python",
   "name": "python",
   "nbconvert_exporter": "python",
   "pygments_lexer": "ipython3",
   "version": "3.9.13"
  }
 },
 "nbformat": 4,
 "nbformat_minor": 5
}
