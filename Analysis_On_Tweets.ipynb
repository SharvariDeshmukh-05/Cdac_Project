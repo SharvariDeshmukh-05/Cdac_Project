{
 "cells": [
  {
   "cell_type": "code",
   "execution_count": 48,
   "id": "0fefd44b",
   "metadata": {},
   "outputs": [],
   "source": [
    "import pandas as pd\n",
    "import numpy as np\n",
    "import re\n",
    "import seaborn as sns\n",
    "import matplotlib.pyplot as plt\n",
    "from matplotlib import style\n",
    "style.use('ggplot')\n",
    "from textblob import TextBlob\n",
    "from nltk.tokenize import word_tokenize\n",
    "from nltk.stem import PorterStemmer\n",
    "from nltk.corpus import stopwords\n",
    "stop_words = set(stopwords.words('english'))\n",
    "from wordcloud import WordCloud\n",
    "from sklearn.feature_extraction.text import CountVectorizer\n",
    "from sklearn.model_selection import train_test_split\n",
    "from sklearn.linear_model import LogisticRegression\n",
    "from sklearn.metrics import accuracy_score, classification_report, confusion_matrix, ConfusionMatrixDisplay"
   ]
  },
  {
   "cell_type": "code",
   "execution_count": 49,
   "id": "9299633a",
   "metadata": {},
   "outputs": [],
   "source": [
    "df = pd.read_csv(\"News_Tweets.csv\", index_col=False)"
   ]
  },
  {
   "cell_type": "code",
   "execution_count": 50,
   "id": "0ea53837",
   "metadata": {},
   "outputs": [
    {
     "data": {
      "text/html": [
       "<div>\n",
       "<style scoped>\n",
       "    .dataframe tbody tr th:only-of-type {\n",
       "        vertical-align: middle;\n",
       "    }\n",
       "\n",
       "    .dataframe tbody tr th {\n",
       "        vertical-align: top;\n",
       "    }\n",
       "\n",
       "    .dataframe thead th {\n",
       "        text-align: right;\n",
       "    }\n",
       "</style>\n",
       "<table border=\"1\" class=\"dataframe\">\n",
       "  <thead>\n",
       "    <tr style=\"text-align: right;\">\n",
       "      <th></th>\n",
       "      <th>Tweets</th>\n",
       "    </tr>\n",
       "  </thead>\n",
       "  <tbody>\n",
       "    <tr>\n",
       "      <th>0</th>\n",
       "      <td>The Assam Healing (Prevention of Evil) Practic...</td>\n",
       "    </tr>\n",
       "    <tr>\n",
       "      <th>1</th>\n",
       "      <td>Mumbai police have registered a case after #Bo...</td>\n",
       "    </tr>\n",
       "    <tr>\n",
       "      <th>2</th>\n",
       "      <td>Congress MP #RahulGandhi on February 21 accuse...</td>\n",
       "    </tr>\n",
       "    <tr>\n",
       "      <th>3</th>\n",
       "      <td>The annual pilgrimage from #Rameswaram to the ...</td>\n",
       "    </tr>\n",
       "    <tr>\n",
       "      <th>4</th>\n",
       "      <td>Actor #TriptiiDimri, best known for #Animal an...</td>\n",
       "    </tr>\n",
       "    <tr>\n",
       "      <th>...</th>\n",
       "      <td>...</td>\n",
       "    </tr>\n",
       "    <tr>\n",
       "      <th>95</th>\n",
       "      <td>At least three Indians were forced to fight al...</td>\n",
       "    </tr>\n",
       "    <tr>\n",
       "      <th>96</th>\n",
       "      <td>India and Sri Lanka are set to take ongoing di...</td>\n",
       "    </tr>\n",
       "    <tr>\n",
       "      <th>97</th>\n",
       "      <td>Farmer unions and Khap leaders at a mahapancha...</td>\n",
       "    </tr>\n",
       "    <tr>\n",
       "      <th>98</th>\n",
       "      <td>Union Home Minister Amit Shah on Tuesday hit o...</td>\n",
       "    </tr>\n",
       "    <tr>\n",
       "      <th>99</th>\n",
       "      <td>India will hold an exposition of some of the r...</td>\n",
       "    </tr>\n",
       "  </tbody>\n",
       "</table>\n",
       "<p>100 rows × 1 columns</p>\n",
       "</div>"
      ],
      "text/plain": [
       "                                               Tweets\n",
       "0   The Assam Healing (Prevention of Evil) Practic...\n",
       "1   Mumbai police have registered a case after #Bo...\n",
       "2   Congress MP #RahulGandhi on February 21 accuse...\n",
       "3   The annual pilgrimage from #Rameswaram to the ...\n",
       "4   Actor #TriptiiDimri, best known for #Animal an...\n",
       "..                                                ...\n",
       "95  At least three Indians were forced to fight al...\n",
       "96  India and Sri Lanka are set to take ongoing di...\n",
       "97  Farmer unions and Khap leaders at a mahapancha...\n",
       "98  Union Home Minister Amit Shah on Tuesday hit o...\n",
       "99  India will hold an exposition of some of the r...\n",
       "\n",
       "[100 rows x 1 columns]"
      ]
     },
     "execution_count": 50,
     "metadata": {},
     "output_type": "execute_result"
    }
   ],
   "source": [
    "df"
   ]
  },
  {
   "cell_type": "code",
   "execution_count": 51,
   "id": "6950ce7f",
   "metadata": {},
   "outputs": [],
   "source": [
    "def data_processing(text):\n",
    "    text = text.lower()\n",
    "    text = re.sub(r\"https\\S+|www\\S+https\\S+\", '',text, flags=re.MULTILINE)\n",
    "    text = re.sub(r'\\@w+|\\#','',text)\n",
    "    text = re.sub(r'[^\\w\\s]','',text)\n",
    "    text_tokens = word_tokenize(text)\n",
    "    filtered_text = [w for w in text_tokens if not w in stop_words]\n",
    "    return \" \".join(filtered_text)"
   ]
  },
  {
   "cell_type": "code",
   "execution_count": 52,
   "id": "a3753e46",
   "metadata": {},
   "outputs": [],
   "source": [
    "new_df = pd.DataFrame()\n",
    "new_df[\"Tweets\"] = df[\"Tweets\"].apply(data_processing)\n"
   ]
  },
  {
   "cell_type": "code",
   "execution_count": 53,
   "id": "642c9b51",
   "metadata": {},
   "outputs": [
    {
     "data": {
      "text/html": [
       "<div>\n",
       "<style scoped>\n",
       "    .dataframe tbody tr th:only-of-type {\n",
       "        vertical-align: middle;\n",
       "    }\n",
       "\n",
       "    .dataframe tbody tr th {\n",
       "        vertical-align: top;\n",
       "    }\n",
       "\n",
       "    .dataframe thead th {\n",
       "        text-align: right;\n",
       "    }\n",
       "</style>\n",
       "<table border=\"1\" class=\"dataframe\">\n",
       "  <thead>\n",
       "    <tr style=\"text-align: right;\">\n",
       "      <th></th>\n",
       "      <th>Tweets</th>\n",
       "    </tr>\n",
       "  </thead>\n",
       "  <tbody>\n",
       "    <tr>\n",
       "      <th>0</th>\n",
       "      <td>assam healing prevention evil practices bill 2...</td>\n",
       "    </tr>\n",
       "    <tr>\n",
       "      <th>1</th>\n",
       "      <td>mumbai police registered case bollywood actor ...</td>\n",
       "    </tr>\n",
       "    <tr>\n",
       "      <th>2</th>\n",
       "      <td>congress mp rahulgandhi february 21 accused bj...</td>\n",
       "    </tr>\n",
       "    <tr>\n",
       "      <th>3</th>\n",
       "      <td>annual pilgrimage rameswaram srilankan islet k...</td>\n",
       "    </tr>\n",
       "    <tr>\n",
       "      <th>4</th>\n",
       "      <td>actor triptiidimri best known animal qala boar...</td>\n",
       "    </tr>\n",
       "    <tr>\n",
       "      <th>...</th>\n",
       "      <td>...</td>\n",
       "    </tr>\n",
       "    <tr>\n",
       "      <th>95</th>\n",
       "      <td>least three indians forced fight alongside rus...</td>\n",
       "    </tr>\n",
       "    <tr>\n",
       "      <th>96</th>\n",
       "      <td>india sri lanka set take ongoing discussions e...</td>\n",
       "    </tr>\n",
       "    <tr>\n",
       "      <th>97</th>\n",
       "      <td>farmer unions khap leaders mahapanchayat harya...</td>\n",
       "    </tr>\n",
       "    <tr>\n",
       "      <th>98</th>\n",
       "      <td>union home minister amit shah tuesday hit oppo...</td>\n",
       "    </tr>\n",
       "    <tr>\n",
       "      <th>99</th>\n",
       "      <td>india hold exposition relics lord buddha posse...</td>\n",
       "    </tr>\n",
       "  </tbody>\n",
       "</table>\n",
       "<p>100 rows × 1 columns</p>\n",
       "</div>"
      ],
      "text/plain": [
       "                                               Tweets\n",
       "0   assam healing prevention evil practices bill 2...\n",
       "1   mumbai police registered case bollywood actor ...\n",
       "2   congress mp rahulgandhi february 21 accused bj...\n",
       "3   annual pilgrimage rameswaram srilankan islet k...\n",
       "4   actor triptiidimri best known animal qala boar...\n",
       "..                                                ...\n",
       "95  least three indians forced fight alongside rus...\n",
       "96  india sri lanka set take ongoing discussions e...\n",
       "97  farmer unions khap leaders mahapanchayat harya...\n",
       "98  union home minister amit shah tuesday hit oppo...\n",
       "99  india hold exposition relics lord buddha posse...\n",
       "\n",
       "[100 rows x 1 columns]"
      ]
     },
     "execution_count": 53,
     "metadata": {},
     "output_type": "execute_result"
    }
   ],
   "source": [
    "new_df"
   ]
  },
  {
   "cell_type": "code",
   "execution_count": 54,
   "id": "6042f18c",
   "metadata": {},
   "outputs": [],
   "source": [
    "new_df = new_df.drop_duplicates(\"Tweets\")"
   ]
  },
  {
   "cell_type": "code",
   "execution_count": 55,
   "id": "0d746563",
   "metadata": {},
   "outputs": [
    {
     "data": {
      "text/html": [
       "<div>\n",
       "<style scoped>\n",
       "    .dataframe tbody tr th:only-of-type {\n",
       "        vertical-align: middle;\n",
       "    }\n",
       "\n",
       "    .dataframe tbody tr th {\n",
       "        vertical-align: top;\n",
       "    }\n",
       "\n",
       "    .dataframe thead th {\n",
       "        text-align: right;\n",
       "    }\n",
       "</style>\n",
       "<table border=\"1\" class=\"dataframe\">\n",
       "  <thead>\n",
       "    <tr style=\"text-align: right;\">\n",
       "      <th></th>\n",
       "      <th>Tweets</th>\n",
       "    </tr>\n",
       "  </thead>\n",
       "  <tbody>\n",
       "    <tr>\n",
       "      <th>0</th>\n",
       "      <td>assam healing prevention evil practices bill 2...</td>\n",
       "    </tr>\n",
       "    <tr>\n",
       "      <th>1</th>\n",
       "      <td>mumbai police registered case bollywood actor ...</td>\n",
       "    </tr>\n",
       "    <tr>\n",
       "      <th>2</th>\n",
       "      <td>congress mp rahulgandhi february 21 accused bj...</td>\n",
       "    </tr>\n",
       "    <tr>\n",
       "      <th>3</th>\n",
       "      <td>annual pilgrimage rameswaram srilankan islet k...</td>\n",
       "    </tr>\n",
       "    <tr>\n",
       "      <th>4</th>\n",
       "      <td>actor triptiidimri best known animal qala boar...</td>\n",
       "    </tr>\n",
       "    <tr>\n",
       "      <th>...</th>\n",
       "      <td>...</td>\n",
       "    </tr>\n",
       "    <tr>\n",
       "      <th>95</th>\n",
       "      <td>least three indians forced fight alongside rus...</td>\n",
       "    </tr>\n",
       "    <tr>\n",
       "      <th>96</th>\n",
       "      <td>india sri lanka set take ongoing discussions e...</td>\n",
       "    </tr>\n",
       "    <tr>\n",
       "      <th>97</th>\n",
       "      <td>farmer unions khap leaders mahapanchayat harya...</td>\n",
       "    </tr>\n",
       "    <tr>\n",
       "      <th>98</th>\n",
       "      <td>union home minister amit shah tuesday hit oppo...</td>\n",
       "    </tr>\n",
       "    <tr>\n",
       "      <th>99</th>\n",
       "      <td>india hold exposition relics lord buddha posse...</td>\n",
       "    </tr>\n",
       "  </tbody>\n",
       "</table>\n",
       "<p>100 rows × 1 columns</p>\n",
       "</div>"
      ],
      "text/plain": [
       "                                               Tweets\n",
       "0   assam healing prevention evil practices bill 2...\n",
       "1   mumbai police registered case bollywood actor ...\n",
       "2   congress mp rahulgandhi february 21 accused bj...\n",
       "3   annual pilgrimage rameswaram srilankan islet k...\n",
       "4   actor triptiidimri best known animal qala boar...\n",
       "..                                                ...\n",
       "95  least three indians forced fight alongside rus...\n",
       "96  india sri lanka set take ongoing discussions e...\n",
       "97  farmer unions khap leaders mahapanchayat harya...\n",
       "98  union home minister amit shah tuesday hit oppo...\n",
       "99  india hold exposition relics lord buddha posse...\n",
       "\n",
       "[100 rows x 1 columns]"
      ]
     },
     "execution_count": 55,
     "metadata": {},
     "output_type": "execute_result"
    }
   ],
   "source": [
    "new_df"
   ]
  },
  {
   "cell_type": "code",
   "execution_count": 56,
   "id": "2372f45e",
   "metadata": {},
   "outputs": [],
   "source": [
    "stemmer = PorterStemmer()\n",
    "def stemming(data):\n",
    "    text = [stemmer.stem(word) for word in data]\n",
    "    return data"
   ]
  },
  {
   "cell_type": "code",
   "execution_count": 57,
   "id": "175392b7",
   "metadata": {},
   "outputs": [],
   "source": [
    "new_df[\"Tweets\"] = new_df[\"Tweets\"].apply(lambda x: stemming(x))"
   ]
  },
  {
   "cell_type": "code",
   "execution_count": 58,
   "id": "8c7e583f",
   "metadata": {},
   "outputs": [
    {
     "data": {
      "text/html": [
       "<div>\n",
       "<style scoped>\n",
       "    .dataframe tbody tr th:only-of-type {\n",
       "        vertical-align: middle;\n",
       "    }\n",
       "\n",
       "    .dataframe tbody tr th {\n",
       "        vertical-align: top;\n",
       "    }\n",
       "\n",
       "    .dataframe thead th {\n",
       "        text-align: right;\n",
       "    }\n",
       "</style>\n",
       "<table border=\"1\" class=\"dataframe\">\n",
       "  <thead>\n",
       "    <tr style=\"text-align: right;\">\n",
       "      <th></th>\n",
       "      <th>Tweets</th>\n",
       "    </tr>\n",
       "  </thead>\n",
       "  <tbody>\n",
       "    <tr>\n",
       "      <th>0</th>\n",
       "      <td>assam healing prevention evil practices bill 2...</td>\n",
       "    </tr>\n",
       "    <tr>\n",
       "      <th>1</th>\n",
       "      <td>mumbai police registered case bollywood actor ...</td>\n",
       "    </tr>\n",
       "    <tr>\n",
       "      <th>2</th>\n",
       "      <td>congress mp rahulgandhi february 21 accused bj...</td>\n",
       "    </tr>\n",
       "    <tr>\n",
       "      <th>3</th>\n",
       "      <td>annual pilgrimage rameswaram srilankan islet k...</td>\n",
       "    </tr>\n",
       "    <tr>\n",
       "      <th>4</th>\n",
       "      <td>actor triptiidimri best known animal qala boar...</td>\n",
       "    </tr>\n",
       "    <tr>\n",
       "      <th>...</th>\n",
       "      <td>...</td>\n",
       "    </tr>\n",
       "    <tr>\n",
       "      <th>95</th>\n",
       "      <td>least three indians forced fight alongside rus...</td>\n",
       "    </tr>\n",
       "    <tr>\n",
       "      <th>96</th>\n",
       "      <td>india sri lanka set take ongoing discussions e...</td>\n",
       "    </tr>\n",
       "    <tr>\n",
       "      <th>97</th>\n",
       "      <td>farmer unions khap leaders mahapanchayat harya...</td>\n",
       "    </tr>\n",
       "    <tr>\n",
       "      <th>98</th>\n",
       "      <td>union home minister amit shah tuesday hit oppo...</td>\n",
       "    </tr>\n",
       "    <tr>\n",
       "      <th>99</th>\n",
       "      <td>india hold exposition relics lord buddha posse...</td>\n",
       "    </tr>\n",
       "  </tbody>\n",
       "</table>\n",
       "<p>100 rows × 1 columns</p>\n",
       "</div>"
      ],
      "text/plain": [
       "                                               Tweets\n",
       "0   assam healing prevention evil practices bill 2...\n",
       "1   mumbai police registered case bollywood actor ...\n",
       "2   congress mp rahulgandhi february 21 accused bj...\n",
       "3   annual pilgrimage rameswaram srilankan islet k...\n",
       "4   actor triptiidimri best known animal qala boar...\n",
       "..                                                ...\n",
       "95  least three indians forced fight alongside rus...\n",
       "96  india sri lanka set take ongoing discussions e...\n",
       "97  farmer unions khap leaders mahapanchayat harya...\n",
       "98  union home minister amit shah tuesday hit oppo...\n",
       "99  india hold exposition relics lord buddha posse...\n",
       "\n",
       "[100 rows x 1 columns]"
      ]
     },
     "execution_count": 58,
     "metadata": {},
     "output_type": "execute_result"
    }
   ],
   "source": [
    "new_df"
   ]
  },
  {
   "cell_type": "code",
   "execution_count": 59,
   "id": "545aead9",
   "metadata": {},
   "outputs": [
    {
     "name": "stdout",
     "output_type": "stream",
     "text": [
      "<class 'pandas.core.frame.DataFrame'>\n",
      "Int64Index: 100 entries, 0 to 99\n",
      "Data columns (total 1 columns):\n",
      " #   Column  Non-Null Count  Dtype \n",
      "---  ------  --------------  ----- \n",
      " 0   Tweets  100 non-null    object\n",
      "dtypes: object(1)\n",
      "memory usage: 1.6+ KB\n"
     ]
    }
   ],
   "source": [
    "new_df.info()"
   ]
  },
  {
   "cell_type": "code",
   "execution_count": 60,
   "id": "8be8641b",
   "metadata": {},
   "outputs": [],
   "source": [
    "def polarity(text):\n",
    "    return TextBlob(text).sentiment.polarity"
   ]
  },
  {
   "cell_type": "code",
   "execution_count": 61,
   "id": "4b83e0ab",
   "metadata": {},
   "outputs": [],
   "source": [
    "new_df[\"Polarity\"] = new_df[\"Tweets\"].apply(polarity)"
   ]
  },
  {
   "cell_type": "code",
   "execution_count": 62,
   "id": "35012547",
   "metadata": {},
   "outputs": [
    {
     "data": {
      "text/html": [
       "<div>\n",
       "<style scoped>\n",
       "    .dataframe tbody tr th:only-of-type {\n",
       "        vertical-align: middle;\n",
       "    }\n",
       "\n",
       "    .dataframe tbody tr th {\n",
       "        vertical-align: top;\n",
       "    }\n",
       "\n",
       "    .dataframe thead th {\n",
       "        text-align: right;\n",
       "    }\n",
       "</style>\n",
       "<table border=\"1\" class=\"dataframe\">\n",
       "  <thead>\n",
       "    <tr style=\"text-align: right;\">\n",
       "      <th></th>\n",
       "      <th>Tweets</th>\n",
       "      <th>Polarity</th>\n",
       "    </tr>\n",
       "  </thead>\n",
       "  <tbody>\n",
       "    <tr>\n",
       "      <th>0</th>\n",
       "      <td>assam healing prevention evil practices bill 2...</td>\n",
       "      <td>-1.000000</td>\n",
       "    </tr>\n",
       "    <tr>\n",
       "      <th>1</th>\n",
       "      <td>mumbai police registered case bollywood actor ...</td>\n",
       "      <td>-0.400000</td>\n",
       "    </tr>\n",
       "    <tr>\n",
       "      <th>2</th>\n",
       "      <td>congress mp rahulgandhi february 21 accused bj...</td>\n",
       "      <td>0.000000</td>\n",
       "    </tr>\n",
       "    <tr>\n",
       "      <th>3</th>\n",
       "      <td>annual pilgrimage rameswaram srilankan islet k...</td>\n",
       "      <td>0.000000</td>\n",
       "    </tr>\n",
       "    <tr>\n",
       "      <th>4</th>\n",
       "      <td>actor triptiidimri best known animal qala boar...</td>\n",
       "      <td>1.000000</td>\n",
       "    </tr>\n",
       "    <tr>\n",
       "      <th>...</th>\n",
       "      <td>...</td>\n",
       "      <td>...</td>\n",
       "    </tr>\n",
       "    <tr>\n",
       "      <th>95</th>\n",
       "      <td>least three indians forced fight alongside rus...</td>\n",
       "      <td>-0.233333</td>\n",
       "    </tr>\n",
       "    <tr>\n",
       "      <th>96</th>\n",
       "      <td>india sri lanka set take ongoing discussions e...</td>\n",
       "      <td>0.066667</td>\n",
       "    </tr>\n",
       "    <tr>\n",
       "      <th>97</th>\n",
       "      <td>farmer unions khap leaders mahapanchayat harya...</td>\n",
       "      <td>0.000000</td>\n",
       "    </tr>\n",
       "    <tr>\n",
       "      <th>98</th>\n",
       "      <td>union home minister amit shah tuesday hit oppo...</td>\n",
       "      <td>0.000000</td>\n",
       "    </tr>\n",
       "    <tr>\n",
       "      <th>99</th>\n",
       "      <td>india hold exposition relics lord buddha posse...</td>\n",
       "      <td>0.000000</td>\n",
       "    </tr>\n",
       "  </tbody>\n",
       "</table>\n",
       "<p>100 rows × 2 columns</p>\n",
       "</div>"
      ],
      "text/plain": [
       "                                               Tweets  Polarity\n",
       "0   assam healing prevention evil practices bill 2... -1.000000\n",
       "1   mumbai police registered case bollywood actor ... -0.400000\n",
       "2   congress mp rahulgandhi february 21 accused bj...  0.000000\n",
       "3   annual pilgrimage rameswaram srilankan islet k...  0.000000\n",
       "4   actor triptiidimri best known animal qala boar...  1.000000\n",
       "..                                                ...       ...\n",
       "95  least three indians forced fight alongside rus... -0.233333\n",
       "96  india sri lanka set take ongoing discussions e...  0.066667\n",
       "97  farmer unions khap leaders mahapanchayat harya...  0.000000\n",
       "98  union home minister amit shah tuesday hit oppo...  0.000000\n",
       "99  india hold exposition relics lord buddha posse...  0.000000\n",
       "\n",
       "[100 rows x 2 columns]"
      ]
     },
     "execution_count": 62,
     "metadata": {},
     "output_type": "execute_result"
    }
   ],
   "source": [
    "new_df"
   ]
  },
  {
   "cell_type": "code",
   "execution_count": 63,
   "id": "85b3db8c",
   "metadata": {},
   "outputs": [],
   "source": [
    "def sentiment(label):\n",
    "    if label <0:\n",
    "        return \"Negative\"\n",
    "    elif label ==0:\n",
    "        return \"Neutral\"\n",
    "    elif label>0:\n",
    "        return \"Positive\""
   ]
  },
  {
   "cell_type": "code",
   "execution_count": 64,
   "id": "242bc3aa",
   "metadata": {},
   "outputs": [],
   "source": [
    "new_df[\"Sentiment\"] = new_df[\"Polarity\"].apply(sentiment)"
   ]
  },
  {
   "cell_type": "code",
   "execution_count": 65,
   "id": "41d3b6ca",
   "metadata": {},
   "outputs": [
    {
     "data": {
      "text/html": [
       "<div>\n",
       "<style scoped>\n",
       "    .dataframe tbody tr th:only-of-type {\n",
       "        vertical-align: middle;\n",
       "    }\n",
       "\n",
       "    .dataframe tbody tr th {\n",
       "        vertical-align: top;\n",
       "    }\n",
       "\n",
       "    .dataframe thead th {\n",
       "        text-align: right;\n",
       "    }\n",
       "</style>\n",
       "<table border=\"1\" class=\"dataframe\">\n",
       "  <thead>\n",
       "    <tr style=\"text-align: right;\">\n",
       "      <th></th>\n",
       "      <th>Tweets</th>\n",
       "      <th>Polarity</th>\n",
       "      <th>Sentiment</th>\n",
       "    </tr>\n",
       "  </thead>\n",
       "  <tbody>\n",
       "    <tr>\n",
       "      <th>0</th>\n",
       "      <td>assam healing prevention evil practices bill 2...</td>\n",
       "      <td>-1.000000</td>\n",
       "      <td>Negative</td>\n",
       "    </tr>\n",
       "    <tr>\n",
       "      <th>1</th>\n",
       "      <td>mumbai police registered case bollywood actor ...</td>\n",
       "      <td>-0.400000</td>\n",
       "      <td>Negative</td>\n",
       "    </tr>\n",
       "    <tr>\n",
       "      <th>2</th>\n",
       "      <td>congress mp rahulgandhi february 21 accused bj...</td>\n",
       "      <td>0.000000</td>\n",
       "      <td>Neutral</td>\n",
       "    </tr>\n",
       "    <tr>\n",
       "      <th>3</th>\n",
       "      <td>annual pilgrimage rameswaram srilankan islet k...</td>\n",
       "      <td>0.000000</td>\n",
       "      <td>Neutral</td>\n",
       "    </tr>\n",
       "    <tr>\n",
       "      <th>4</th>\n",
       "      <td>actor triptiidimri best known animal qala boar...</td>\n",
       "      <td>1.000000</td>\n",
       "      <td>Positive</td>\n",
       "    </tr>\n",
       "    <tr>\n",
       "      <th>...</th>\n",
       "      <td>...</td>\n",
       "      <td>...</td>\n",
       "      <td>...</td>\n",
       "    </tr>\n",
       "    <tr>\n",
       "      <th>95</th>\n",
       "      <td>least three indians forced fight alongside rus...</td>\n",
       "      <td>-0.233333</td>\n",
       "      <td>Negative</td>\n",
       "    </tr>\n",
       "    <tr>\n",
       "      <th>96</th>\n",
       "      <td>india sri lanka set take ongoing discussions e...</td>\n",
       "      <td>0.066667</td>\n",
       "      <td>Positive</td>\n",
       "    </tr>\n",
       "    <tr>\n",
       "      <th>97</th>\n",
       "      <td>farmer unions khap leaders mahapanchayat harya...</td>\n",
       "      <td>0.000000</td>\n",
       "      <td>Neutral</td>\n",
       "    </tr>\n",
       "    <tr>\n",
       "      <th>98</th>\n",
       "      <td>union home minister amit shah tuesday hit oppo...</td>\n",
       "      <td>0.000000</td>\n",
       "      <td>Neutral</td>\n",
       "    </tr>\n",
       "    <tr>\n",
       "      <th>99</th>\n",
       "      <td>india hold exposition relics lord buddha posse...</td>\n",
       "      <td>0.000000</td>\n",
       "      <td>Neutral</td>\n",
       "    </tr>\n",
       "  </tbody>\n",
       "</table>\n",
       "<p>100 rows × 3 columns</p>\n",
       "</div>"
      ],
      "text/plain": [
       "                                               Tweets  Polarity Sentiment\n",
       "0   assam healing prevention evil practices bill 2... -1.000000  Negative\n",
       "1   mumbai police registered case bollywood actor ... -0.400000  Negative\n",
       "2   congress mp rahulgandhi february 21 accused bj...  0.000000   Neutral\n",
       "3   annual pilgrimage rameswaram srilankan islet k...  0.000000   Neutral\n",
       "4   actor triptiidimri best known animal qala boar...  1.000000  Positive\n",
       "..                                                ...       ...       ...\n",
       "95  least three indians forced fight alongside rus... -0.233333  Negative\n",
       "96  india sri lanka set take ongoing discussions e...  0.066667  Positive\n",
       "97  farmer unions khap leaders mahapanchayat harya...  0.000000   Neutral\n",
       "98  union home minister amit shah tuesday hit oppo...  0.000000   Neutral\n",
       "99  india hold exposition relics lord buddha posse...  0.000000   Neutral\n",
       "\n",
       "[100 rows x 3 columns]"
      ]
     },
     "execution_count": 65,
     "metadata": {},
     "output_type": "execute_result"
    }
   ],
   "source": [
    "new_df"
   ]
  },
  {
   "cell_type": "code",
   "execution_count": 66,
   "id": "d625d233",
   "metadata": {},
   "outputs": [
    {
     "data": {
      "text/plain": [
       "<AxesSubplot:xlabel='Sentiment', ylabel='count'>"
      ]
     },
     "execution_count": 66,
     "metadata": {},
     "output_type": "execute_result"
    },
    {
     "data": {
      "image/png": "[encoded data removed]",
      "text/plain": [
       "<Figure size 800x600 with 1 Axes>"
      ]
     },
     "metadata": {},
     "output_type": "display_data"
    }
   ],
   "source": [
    "fig = plt.figure(figsize=(8,6))\n",
    "sns.countplot(x='Sentiment', data = new_df)"
   ]
  },
  {
   "cell_type": "code",
   "execution_count": 67,
   "id": "30945571",
   "metadata": {},
   "outputs": [
    {
     "data": {
      "text/plain": [
       "Text(0.5, 1.0, 'Distribution of sentiments')"
      ]
     },
     "execution_count": 67,
     "metadata": {},
     "output_type": "execute_result"
    },
    {
     "data": {
      "image/png": "[encoded data removed]",
      "text/plain": [
       "<Figure size 800x800 with 1 Axes>"
      ]
     },
     "metadata": {},
     "output_type": "display_data"
    }
   ],
   "source": [
    "fig = plt.figure(figsize=(8,8))\n",
    "colors = (\"green\", \"blue\", \"red\")\n",
    "wp = {'linewidth':2, 'edgecolor':\"black\"}\n",
    "tags = new_df['Sentiment'].value_counts()\n",
    "explode = (0.1,0.1,0.1)\n",
    "tags.plot(kind='pie', autopct='%1.1f%%', shadow=True, colors = colors,\n",
    "         startangle=90, wedgeprops = wp, explode = explode, label='')\n",
    "plt.title('Distribution of sentiments')"
   ]
  },
  {
   "cell_type": "code",
   "execution_count": 71,
   "id": "652605b0",
   "metadata": {},
   "outputs": [
    {
     "data": {
      "text/plain": [
       "array(['Negative', 'Neutral', 'Positive'], dtype=object)"
      ]
     },
     "execution_count": 71,
     "metadata": {},
     "output_type": "execute_result"
    }
   ],
   "source": [
    "new_df['Sentiment'].unique()"
   ]
  },
  {
   "cell_type": "code",
   "execution_count": 70,
   "id": "c4e4ec83",
   "metadata": {},
   "outputs": [
    {
     "data": {
      "text/html": [
       "<div>\n",
       "<style scoped>\n",
       "    .dataframe tbody tr th:only-of-type {\n",
       "        vertical-align: middle;\n",
       "    }\n",
       "\n",
       "    .dataframe tbody tr th {\n",
       "        vertical-align: top;\n",
       "    }\n",
       "\n",
       "    .dataframe thead th {\n",
       "        text-align: right;\n",
       "    }\n",
       "</style>\n",
       "<table border=\"1\" class=\"dataframe\">\n",
       "  <thead>\n",
       "    <tr style=\"text-align: right;\">\n",
       "      <th></th>\n",
       "      <th>Tweets</th>\n",
       "      <th>Polarity</th>\n",
       "      <th>Sentiment</th>\n",
       "    </tr>\n",
       "  </thead>\n",
       "  <tbody>\n",
       "    <tr>\n",
       "      <th>4</th>\n",
       "      <td>actor triptiidimri best known animal qala boar...</td>\n",
       "      <td>1.000000</td>\n",
       "      <td>Positive</td>\n",
       "    </tr>\n",
       "    <tr>\n",
       "      <th>54</th>\n",
       "      <td>shahrukhkhan best actor award jawan dadasaheb ...</td>\n",
       "      <td>0.666667</td>\n",
       "      <td>Positive</td>\n",
       "    </tr>\n",
       "    <tr>\n",
       "      <th>26</th>\n",
       "      <td>greatly appreciate support resolve friends sup...</td>\n",
       "      <td>0.616667</td>\n",
       "      <td>Positive</td>\n",
       "    </tr>\n",
       "    <tr>\n",
       "      <th>83</th>\n",
       "      <td>farmers rejected government proposal minimum s...</td>\n",
       "      <td>0.600000</td>\n",
       "      <td>Positive</td>\n",
       "    </tr>\n",
       "    <tr>\n",
       "      <th>17</th>\n",
       "      <td>bombayhc february 21 issued notice maharashtra...</td>\n",
       "      <td>0.500000</td>\n",
       "      <td>Positive</td>\n",
       "    </tr>\n",
       "  </tbody>\n",
       "</table>\n",
       "</div>"
      ],
      "text/plain": [
       "                                               Tweets  Polarity Sentiment\n",
       "4   actor triptiidimri best known animal qala boar...  1.000000  Positive\n",
       "54  shahrukhkhan best actor award jawan dadasaheb ...  0.666667  Positive\n",
       "26  greatly appreciate support resolve friends sup...  0.616667  Positive\n",
       "83  farmers rejected government proposal minimum s...  0.600000  Positive\n",
       "17  bombayhc february 21 issued notice maharashtra...  0.500000  Positive"
      ]
     },
     "execution_count": 70,
     "metadata": {},
     "output_type": "execute_result"
    }
   ],
   "source": [
    "pos_tweets = new_df[new_df['Sentiment'] == 'Positive']\n",
    "pos_tweets = pos_tweets.sort_values(['Polarity'], ascending= False)\n",
    "pos_tweets.head()"
   ]
  },
  {
   "cell_type": "code",
   "execution_count": 73,
   "id": "6198cd84",
   "metadata": {},
   "outputs": [
    {
     "data": {
      "text/html": [
       "<div>\n",
       "<style scoped>\n",
       "    .dataframe tbody tr th:only-of-type {\n",
       "        vertical-align: middle;\n",
       "    }\n",
       "\n",
       "    .dataframe tbody tr th {\n",
       "        vertical-align: top;\n",
       "    }\n",
       "\n",
       "    .dataframe thead th {\n",
       "        text-align: right;\n",
       "    }\n",
       "</style>\n",
       "<table border=\"1\" class=\"dataframe\">\n",
       "  <thead>\n",
       "    <tr style=\"text-align: right;\">\n",
       "      <th></th>\n",
       "      <th>Tweets</th>\n",
       "      <th>Polarity</th>\n",
       "      <th>Sentiment</th>\n",
       "    </tr>\n",
       "  </thead>\n",
       "  <tbody>\n",
       "    <tr>\n",
       "      <th>2</th>\n",
       "      <td>congress mp rahulgandhi february 21 accused bj...</td>\n",
       "      <td>0.0</td>\n",
       "      <td>Neutral</td>\n",
       "    </tr>\n",
       "    <tr>\n",
       "      <th>3</th>\n",
       "      <td>annual pilgrimage rameswaram srilankan islet k...</td>\n",
       "      <td>0.0</td>\n",
       "      <td>Neutral</td>\n",
       "    </tr>\n",
       "    <tr>\n",
       "      <th>98</th>\n",
       "      <td>union home minister amit shah tuesday hit oppo...</td>\n",
       "      <td>0.0</td>\n",
       "      <td>Neutral</td>\n",
       "    </tr>\n",
       "    <tr>\n",
       "      <th>97</th>\n",
       "      <td>farmer unions khap leaders mahapanchayat harya...</td>\n",
       "      <td>0.0</td>\n",
       "      <td>Neutral</td>\n",
       "    </tr>\n",
       "    <tr>\n",
       "      <th>94</th>\n",
       "      <td>day ahead delhi chalo march punjab police leav...</td>\n",
       "      <td>0.0</td>\n",
       "      <td>Neutral</td>\n",
       "    </tr>\n",
       "  </tbody>\n",
       "</table>\n",
       "</div>"
      ],
      "text/plain": [
       "                                               Tweets  Polarity Sentiment\n",
       "2   congress mp rahulgandhi february 21 accused bj...       0.0   Neutral\n",
       "3   annual pilgrimage rameswaram srilankan islet k...       0.0   Neutral\n",
       "98  union home minister amit shah tuesday hit oppo...       0.0   Neutral\n",
       "97  farmer unions khap leaders mahapanchayat harya...       0.0   Neutral\n",
       "94  day ahead delhi chalo march punjab police leav...       0.0   Neutral"
      ]
     },
     "execution_count": 73,
     "metadata": {},
     "output_type": "execute_result"
    }
   ],
   "source": [
    "nut_tweets = new_df[new_df['Sentiment'] == 'Neutral']\n",
    "nut_tweets = nut_tweets.sort_values(['Polarity'], ascending= False)\n",
    "nut_tweets.head()"
   ]
  },
  {
   "cell_type": "code",
   "execution_count": 74,
   "id": "8824af06",
   "metadata": {},
   "outputs": [
    {
     "data": {
      "text/html": [
       "<div>\n",
       "<style scoped>\n",
       "    .dataframe tbody tr th:only-of-type {\n",
       "        vertical-align: middle;\n",
       "    }\n",
       "\n",
       "    .dataframe tbody tr th {\n",
       "        vertical-align: top;\n",
       "    }\n",
       "\n",
       "    .dataframe thead th {\n",
       "        text-align: right;\n",
       "    }\n",
       "</style>\n",
       "<table border=\"1\" class=\"dataframe\">\n",
       "  <thead>\n",
       "    <tr style=\"text-align: right;\">\n",
       "      <th></th>\n",
       "      <th>Tweets</th>\n",
       "      <th>Polarity</th>\n",
       "      <th>Sentiment</th>\n",
       "    </tr>\n",
       "  </thead>\n",
       "  <tbody>\n",
       "    <tr>\n",
       "      <th>24</th>\n",
       "      <td>india china agreed maintain peace tranquillity...</td>\n",
       "      <td>-5.551115e-18</td>\n",
       "      <td>Negative</td>\n",
       "    </tr>\n",
       "    <tr>\n",
       "      <th>6</th>\n",
       "      <td>new study team reported finally discovering mi...</td>\n",
       "      <td>-1.590909e-02</td>\n",
       "      <td>Negative</td>\n",
       "    </tr>\n",
       "    <tr>\n",
       "      <th>91</th>\n",
       "      <td>aap congress welcomed scs decision chandigarh ...</td>\n",
       "      <td>-2.500000e-02</td>\n",
       "      <td>Negative</td>\n",
       "    </tr>\n",
       "    <tr>\n",
       "      <th>84</th>\n",
       "      <td>amid standoff farmers taking part delhi chalo ...</td>\n",
       "      <td>-5.000000e-02</td>\n",
       "      <td>Negative</td>\n",
       "    </tr>\n",
       "    <tr>\n",
       "      <th>92</th>\n",
       "      <td>cbi searched premises ramesh abhishek secretar...</td>\n",
       "      <td>-5.000000e-02</td>\n",
       "      <td>Negative</td>\n",
       "    </tr>\n",
       "  </tbody>\n",
       "</table>\n",
       "</div>"
      ],
      "text/plain": [
       "                                               Tweets      Polarity Sentiment\n",
       "24  india china agreed maintain peace tranquillity... -5.551115e-18  Negative\n",
       "6   new study team reported finally discovering mi... -1.590909e-02  Negative\n",
       "91  aap congress welcomed scs decision chandigarh ... -2.500000e-02  Negative\n",
       "84  amid standoff farmers taking part delhi chalo ... -5.000000e-02  Negative\n",
       "92  cbi searched premises ramesh abhishek secretar... -5.000000e-02  Negative"
      ]
     },
     "execution_count": 74,
     "metadata": {},
     "output_type": "execute_result"
    }
   ],
   "source": [
    "neg_tweets = new_df[new_df['Sentiment'] == 'Negative']\n",
    "neg_tweets = neg_tweets.sort_values(['Polarity'], ascending= False)\n",
    "neg_tweets.head()"
   ]
  },
  {
   "cell_type": "code",
   "execution_count": 75,
   "id": "f14ac6f8",
   "metadata": {},
   "outputs": [],
   "source": [
    "vect = CountVectorizer(ngram_range=(1,2)).fit(new_df[\"Tweets\"])"
   ]
  },
  {
   "cell_type": "code",
   "execution_count": null,
   "id": "8ed5d534",
   "metadata": {},
   "outputs": [],
   "source": []
  }
 ],
 "metadata": {
  "kernelspec": {
   "display_name": "Python 3 (ipykernel)",
   "language": "python",
   "name": "python3"
  },
  "language_info": {
   "codemirror_mode": {
    "name": "ipython",
    "version": 3
   },
   "file_extension": ".py",
   "mimetype": "text/x-python",
   "name": "python",
   "nbconvert_exporter": "python",
   "pygments_lexer": "ipython3",
   "version": "3.9.13"
  }
 },
 "nbformat": 4,
 "nbformat_minor": 5
}
