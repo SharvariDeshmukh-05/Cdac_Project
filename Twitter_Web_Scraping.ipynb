{
 "cells": [
  {
   "cell_type": "code",
   "execution_count": 1,
   "id": "852fb34d-34b2-4443-8b81-2317b2187437",
   "metadata": {},
   "outputs": [],
   "source": [
    "from ntscraper import Nitter"
   ]
  },
  {
   "cell_type": "code",
   "execution_count": 2,
   "id": "222ad4db-1475-4fd5-89f0-e88c815d3e70",
   "metadata": {},
   "outputs": [
    {
     "name": "stderr",
     "output_type": "stream",
     "text": [
      "Testing instances: 100%|███████████████████████████████████████████████████████████████| 23/23 [00:38<00:00,  1.68s/it]\n"
     ]
    }
   ],
   "source": [
    "scraper = Nitter(0)"
   ]
  },
  {
   "cell_type": "code",
   "execution_count": 5,
   "id": "62452a25-64b6-42c9-b1b9-36674fb29a26",
   "metadata": {},
   "outputs": [],
   "source": [
    "tweets = scraper.get_tweets(\"F1\", mode = 'user', number=5)"
   ]
  },
  {
   "cell_type": "code",
   "execution_count": 6,
   "id": "bc3d78d7",
   "metadata": {},
   "outputs": [
    {
     "data": {
      "text/plain": [
       "{'tweets': [{'link': 'https://twitter.com/F1/status/1757476565502300550#m',\n",
       "   'text': '\"He\\'s such an incredible driver\" 💬  Charles is looking forward to having Lewis as a teammate in 2025 👀  Click below for the full interview 👇',\n",
       "   'user': {'name': 'Formula 1',\n",
       "    'username': '@F1',\n",
       "    'profile_id': '1612433922733887489',\n",
       "    'avatar': 'https://pbs.twimg.com/profile_images/1612433922733887489/7f5XFklA_bigger.jpg'},\n",
       "   'date': 'Feb 13, 2024 · 6:47 PM UTC',\n",
       "   'is-retweet': False,\n",
       "   'external-link': '',\n",
       "   'replying_to': [],\n",
       "   'quoted-post': {},\n",
       "   'stats': {'comments': 73, 'retweets': 216, 'quotes': 21, 'likes': 2879},\n",
       "   'pictures': [],\n",
       "   'videos': [],\n",
       "   'gifs': []},\n",
       "  {'link': 'https://twitter.com/F1/status/1757444017749397640#m',\n",
       "   'text': 'Coming soon... ⏳  #F1Fantasy',\n",
       "   'user': {'name': 'Formula 1',\n",
       "    'username': '@F1',\n",
       "    'profile_id': '1612433922733887489',\n",
       "    'avatar': 'https://pbs.twimg.com/profile_images/1612433922733887489/7f5XFklA_bigger.jpg'},\n",
       "   'date': 'Feb 13, 2024 · 4:38 PM UTC',\n",
       "   'is-retweet': False,\n",
       "   'external-link': '',\n",
       "   'replying_to': [],\n",
       "   'quoted-post': {},\n",
       "   'stats': {'comments': 64, 'retweets': 163, 'quotes': 49, 'likes': 3192},\n",
       "   'pictures': ['https://pbs.twimg.com/media/GGOe1FxXMAAiJoM.jpg'],\n",
       "   'videos': [],\n",
       "   'gifs': []},\n",
       "  {'link': 'https://twitter.com/F1/status/1757422849260708033#m',\n",
       "   'text': \"TECH ANALYSIS ⚙️  What's new on the SF-24? 👀 @SportmphMark casts an expert eye over Ferrari's brand new car 🕵️\\u200d♂️  #F1 https://f1.com/Ferrari_SF-24_Tech\",\n",
       "   'user': {'name': 'Formula 1',\n",
       "    'username': '@F1',\n",
       "    'profile_id': '1612433922733887489',\n",
       "    'avatar': 'https://pbs.twimg.com/profile_images/1612433922733887489/7f5XFklA_bigger.jpg'},\n",
       "   'date': 'Feb 13, 2024 · 3:13 PM UTC',\n",
       "   'is-retweet': False,\n",
       "   'external-link': '',\n",
       "   'replying_to': [],\n",
       "   'quoted-post': {},\n",
       "   'stats': {'comments': 30, 'retweets': 120, 'quotes': 8, 'likes': 1673},\n",
       "   'pictures': [],\n",
       "   'videos': [],\n",
       "   'gifs': []},\n",
       "  {'link': 'https://twitter.com/F1/status/1757417401027592298#m',\n",
       "   'text': 'New season, new lids 👌  #F1 @ScuderiaFerrari',\n",
       "   'user': {'name': 'Formula 1',\n",
       "    'username': '@F1',\n",
       "    'profile_id': '1612433922733887489',\n",
       "    'avatar': 'https://pbs.twimg.com/profile_images/1612433922733887489/7f5XFklA_bigger.jpg'},\n",
       "   'date': 'Feb 13, 2024 · 2:52 PM UTC',\n",
       "   'is-retweet': False,\n",
       "   'external-link': '',\n",
       "   'replying_to': [],\n",
       "   'quoted-post': {},\n",
       "   'stats': {'comments': 61, 'retweets': 828, 'quotes': 68, 'likes': 13265},\n",
       "   'pictures': ['https://pbs.twimg.com/media/GGOZa42XQAARxxi.jpg',\n",
       "    'https://pbs.twimg.com/media/GGOZdF_WAAAtFcQ.jpg'],\n",
       "   'videos': [],\n",
       "   'gifs': []},\n",
       "  {'link': 'https://twitter.com/F1/status/1757378029112746458#m',\n",
       "   'text': 'SF-23 🔀 SF-24  Spot the difference 👀  #F1 @ScuderiaFerrari',\n",
       "   'user': {'name': 'Formula 1',\n",
       "    'username': '@F1',\n",
       "    'profile_id': '1612433922733887489',\n",
       "    'avatar': 'https://pbs.twimg.com/profile_images/1612433922733887489/7f5XFklA_bigger.jpg'},\n",
       "   'date': 'Feb 13, 2024 · 12:15 PM UTC',\n",
       "   'is-retweet': False,\n",
       "   'external-link': '',\n",
       "   'replying_to': [],\n",
       "   'quoted-post': {},\n",
       "   'stats': {'comments': 78, 'retweets': 752, 'quotes': 85, 'likes': 7625},\n",
       "   'pictures': [],\n",
       "   'videos': ['https://video.twimg.com/amplify_video/1757370862896906240/pl/NmJwq_aEKsW2dM_E.m3u8?tag=14&container=fmp4'],\n",
       "   'gifs': []}],\n",
       " 'threads': []}"
      ]
     },
     "execution_count": 6,
     "metadata": {},
     "output_type": "execute_result"
    }
   ],
   "source": [
    "tweets"
   ]
  },
  {
   "cell_type": "code",
   "execution_count": 5,
   "id": "78abb7aa-1dee-4891-ae92-5857dcb0ce31",
   "metadata": {},
   "outputs": [],
   "source": [
    "final_tweets = []\n",
    "for x in tweets['tweets']:\n",
    "    data = [x['link'], x['text'],x['date'],x['stats']['likes'],x['stats']['comments']]\n",
    "    final_tweets.append(data)"
   ]
  },
  {
   "cell_type": "code",
   "execution_count": 6,
   "id": "247e9f5d-fdc2-484e-bdd7-ea7db3badb36",
   "metadata": {},
   "outputs": [],
   "source": [
    "import pandas as pd\n",
    "df = pd.DataFrame(final_tweets, columns =['twitter_link','text','date','likes','comments'])"
   ]
  },
  {
   "cell_type": "code",
   "execution_count": 7,
   "id": "7327d6be-2e4e-414b-9eb0-eaeb96e0a71a",
   "metadata": {},
   "outputs": [
    {
     "data": {
      "text/html": [
       "<div>\n",
       "<style scoped>\n",
       "    .dataframe tbody tr th:only-of-type {\n",
       "        vertical-align: middle;\n",
       "    }\n",
       "\n",
       "    .dataframe tbody tr th {\n",
       "        vertical-align: top;\n",
       "    }\n",
       "\n",
       "    .dataframe thead th {\n",
       "        text-align: right;\n",
       "    }\n",
       "</style>\n",
       "<table border=\"1\" class=\"dataframe\">\n",
       "  <thead>\n",
       "    <tr style=\"text-align: right;\">\n",
       "      <th></th>\n",
       "      <th>twitter_link</th>\n",
       "      <th>text</th>\n",
       "      <th>date</th>\n",
       "      <th>likes</th>\n",
       "      <th>comments</th>\n",
       "    </tr>\n",
       "  </thead>\n",
       "  <tbody>\n",
       "    <tr>\n",
       "      <th>0</th>\n",
       "      <td>https://twitter.com/F1/status/1753136622625784...</td>\n",
       "      <td>Your 2025 line-up for Scuderia Ferrari! 🤯🤩  #F...</td>\n",
       "      <td>Feb 1, 2024 · 7:21 PM UTC</td>\n",
       "      <td>299809</td>\n",
       "      <td>4212</td>\n",
       "    </tr>\n",
       "    <tr>\n",
       "      <th>1</th>\n",
       "      <td>https://twitter.com/F1/status/1754845732304031...</td>\n",
       "      <td>This your last chance to win the ultimate race...</td>\n",
       "      <td>Feb 6, 2024 · 12:33 PM UTC</td>\n",
       "      <td>741</td>\n",
       "      <td>17</td>\n",
       "    </tr>\n",
       "    <tr>\n",
       "      <th>2</th>\n",
       "      <td>https://twitter.com/F1/status/1754816513956024...</td>\n",
       "      <td>A whole new look for the C44 👀  Get the full o...</td>\n",
       "      <td>Feb 6, 2024 · 10:37 AM UTC</td>\n",
       "      <td>1319</td>\n",
       "      <td>31</td>\n",
       "    </tr>\n",
       "    <tr>\n",
       "      <th>3</th>\n",
       "      <td>https://twitter.com/F1/status/1754798586141818...</td>\n",
       "      <td>POV: You're onboard with @stakef1team in 2024 ...</td>\n",
       "      <td>Feb 6, 2024 · 9:26 AM UTC</td>\n",
       "      <td>4279</td>\n",
       "      <td>75</td>\n",
       "    </tr>\n",
       "    <tr>\n",
       "      <th>4</th>\n",
       "      <td>https://twitter.com/F1/status/1754595749709431...</td>\n",
       "      <td>Flipping the script at Kick Sauber for the new...</td>\n",
       "      <td>Feb 5, 2024 · 8:00 PM UTC</td>\n",
       "      <td>4423</td>\n",
       "      <td>98</td>\n",
       "    </tr>\n",
       "  </tbody>\n",
       "</table>\n",
       "</div>"
      ],
      "text/plain": [
       "                                        twitter_link  \\\n",
       "0  https://twitter.com/F1/status/1753136622625784...   \n",
       "1  https://twitter.com/F1/status/1754845732304031...   \n",
       "2  https://twitter.com/F1/status/1754816513956024...   \n",
       "3  https://twitter.com/F1/status/1754798586141818...   \n",
       "4  https://twitter.com/F1/status/1754595749709431...   \n",
       "\n",
       "                                                text  \\\n",
       "0  Your 2025 line-up for Scuderia Ferrari! 🤯🤩  #F...   \n",
       "1  This your last chance to win the ultimate race...   \n",
       "2  A whole new look for the C44 👀  Get the full o...   \n",
       "3  POV: You're onboard with @stakef1team in 2024 ...   \n",
       "4  Flipping the script at Kick Sauber for the new...   \n",
       "\n",
       "                         date   likes  comments  \n",
       "0   Feb 1, 2024 · 7:21 PM UTC  299809      4212  \n",
       "1  Feb 6, 2024 · 12:33 PM UTC     741        17  \n",
       "2  Feb 6, 2024 · 10:37 AM UTC    1319        31  \n",
       "3   Feb 6, 2024 · 9:26 AM UTC    4279        75  \n",
       "4   Feb 5, 2024 · 8:00 PM UTC    4423        98  "
      ]
     },
     "execution_count": 7,
     "metadata": {},
     "output_type": "execute_result"
    }
   ],
   "source": [
    "df"
   ]
  },
  {
   "cell_type": "code",
   "execution_count": null,
   "id": "7b4253cc",
   "metadata": {},
   "outputs": [],
   "source": []
  }
 ],
 "metadata": {
  "kernelspec": {
   "display_name": "Python 3 (ipykernel)",
   "language": "python",
   "name": "python3"
  },
  "language_info": {
   "codemirror_mode": {
    "name": "ipython",
    "version": 3
   },
   "file_extension": ".py",
   "mimetype": "text/x-python",
   "name": "python",
   "nbconvert_exporter": "python",
   "pygments_lexer": "ipython3",
   "version": "3.9.13"
  }
 },
 "nbformat": 4,
 "nbformat_minor": 5
}
